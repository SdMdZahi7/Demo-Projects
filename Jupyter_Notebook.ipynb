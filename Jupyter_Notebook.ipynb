{
 "cells": [
  {
   "cell_type": "markdown",
   "metadata": {},
   "source": [
    "<center>\n",
    "    <img src=\"https://cf-courses-data.s3.us.cloud-object-storage.appdomain.cloud/IBMDeveloperSkillsNetwork-DS0105EN-SkillsNetwork/labs/Module2/images/SN_web_lightmode.png\" width=\"300\" alt=\"cognitiveclass.ai logo\">\n",
    "</center>\n"
   ]
  },
  {
   "cell_type": "markdown",
   "metadata": {},
   "source": [
    "#### Add your code below following the instructions given in the course\n"
   ]
  },
  {
   "cell_type": "markdown",
   "metadata": {},
   "source": [
    " Data science Final project"
   ]
  },
  {
   "cell_type": "markdown",
   "metadata": {},
   "source": [
    "\n",
    "Data Science tools are software platforms that aid in analyzing, processing, and visualizing data. Popular tools include Python and R for statistical analysis, Jupyter Notebooks for interactive coding, Pandas for data manipulation, NumPy for numerical computations, Matplotlib and Seaborn for data visualization, Scikit-learn for machine learning, TensorFlow and PyTorch for deep learning, Tableau for business intelligence, and Excel for basic data operations. These tools help data scientists uncover insights, build predictive models, and make data-driven decisions across various industries."
   ]
  },
  {
   "cell_type": "markdown",
   "metadata": {},
   "source": [
    "List of programming languages commonly used in data science:\n",
    "\n",
    "1. Python\n",
    "2. R\n",
    "3. SQL\n",
    "4. Julia\n",
    "5. Scala\n",
    "6. Java\n",
    "7. MATLAB\n",
    "8. JavaScript"
   ]
  },
  {
   "cell_type": "markdown",
   "metadata": {},
   "source": [
    "The list of data science libraries:\n",
    "\n",
    "1. NumPy\n",
    "2. Pandas\n",
    "3. Matplotlib\n",
    "4. Seaborn\n",
    "5. Scikit-learn\n",
    "6. TensorFlow\n",
    "7. Keras\n",
    "8. PyTorch\n",
    "9. SciPy\n",
    "10.Statsmodels"
   ]
  },
  {
   "cell_type": "markdown",
   "metadata": {},
   "source": [
    "Listing some popular Data Science tools:\n",
    "\n",
    "| **Data Science Tool**     | **Description**                                                                 |\n",
    "|---------------------------|---------------------------------------------------------------------------------|\n",
    "| Jupyter Notebook          | An open-source web application for interactive data science and scientific computing. |\n",
    "| RStudio                   | An integrated development environment for R, a programming language for statistical computing. |\n",
    "| Apache Hadoop             | An open-source framework for distributed storage and processing of large datasets. |\n",
    "| Apache Spark              | A unified analytics engine for large-scale data processing, with built-in modules for SQL, streaming, machine learning, and graph processing. |\n",
    "| Tableau                   | A powerful data visualization tool used for creating interactive and shareable dashboards. |\n",
    "| MATLAB                    | A high-level programming language and interactive environment for numerical computation, visualization, and programming. |\n",
    "| SAS                       | A statistical software suite for advanced analytics, business intelligence, and data management. |\n",
    "| RapidMiner                | A data science platform for building predictive models using machine learning. |\n",
    "| KNIME                     | An open-source data analytics platform for data mining and machine learning. |\n",
    "| Google Colab              | A cloud-based Jupyter notebook environment that allows you to write and execute Python code through the browser. |\n"
   ]
  },
  {
   "cell_type": "markdown",
   "metadata": {},
   "source": [
    "### Arithmetic Expression Examples\n",
    "\n",
    "Arithmetic expressions are combinations of numbers and operators used to perform mathematical calculations. Here are some basic examples of arithmetic expressions:\n",
    "\n",
    "- **Addition**: \\(2 + 3 = 5\\)\n",
    "- **Subtraction**: \\(7 - 4 = 3\\)\n",
    "- **Multiplication**: \\(6 \\times 5 = 30\\)\n",
    "- **Division**: \\(8 \\div 2 = 4\\)\n",
    "- **Exponentiation**: \\(3^2 = 9\\)\n",
    "- **Modulo**: \\(10 \\mod 3 = 1\\)\n",
    "\n",
    "These operations form the foundation of mathematical computations and are commonly used in programming and data science tasks.\n"
   ]
  },
  {
   "cell_type": "code",
   "execution_count": 6,
   "metadata": {
    "tags": []
   },
   "outputs": [
    {
     "name": "stdin",
     "output_type": "stream",
     "text": [
      "Enter the value:  10\n",
      "Enter the value:  5\n"
     ]
    },
    {
     "name": "stdout",
     "output_type": "stream",
     "text": [
      "The added value is: 15\n",
      "The producted value is: 50\n"
     ]
    }
   ],
   "source": [
    "a = int(input(\"Enter the value: \"))\n",
    "b = int(input(\"Enter the value: \"))\n",
    "c = a + b\n",
    "d = a * b\n",
    "print(f\"The added value is: {c}\")\n",
    "print(f\"The producted value is: {d}\")"
   ]
  },
  {
   "cell_type": "code",
   "execution_count": 8,
   "metadata": {
    "tags": []
   },
   "outputs": [
    {
     "name": "stdin",
     "output_type": "stream",
     "text": [
      "Enter the Total number of minuted 125\n"
     ]
    },
    {
     "name": "stdout",
     "output_type": "stream",
     "text": [
      "125 minutes is equal to 2 hours and 5 minutes.\n"
     ]
    }
   ],
   "source": [
    "def minutes_to_hours(minutes):\n",
    "    hours = minutes // 60\n",
    "    remaining_minutes = minutes % 60\n",
    "    return hours, remaining_minutes\n",
    "\n",
    "total_minutes = int(input(\"Enter the Total number of minuted\"))\n",
    "hours, remaining_minutes = minutes_to_hours(total_minutes)\n",
    "\n",
    "print(f\"{total_minutes} minutes is equal to {hours} hours and {remaining_minutes} minutes.\")\n",
    "\n"
   ]
  },
  {
   "cell_type": "markdown",
   "metadata": {},
   "source": [
    "To list the objectives:\n",
    "### Objectives\n",
    "\n",
    "1. **Understand Basic Data Science Tools**: Learn about essential tools and libraries used in data science for various tasks such as data manipulation, visualization, and machine learning.\n",
    "\n",
    "2. **Perform Arithmetic Operations**: Practice basic arithmetic operations like addition, subtraction, multiplication, and division, and understand their applications in programming.\n",
    "\n",
    "3. **Convert Units of Time**: Develop the ability to convert units of time, such as converting minutes to hours, and understand how to apply these conversions in practical scenarios.\n",
    "\n",
    "4. **Create and Use Functions**: Write and utilize functions to perform specific tasks, such as converting units or performing arithmetic operations, and understand their importance in code organization and reuse.\n",
    "\n",
    "5. **Write and Execute Code**: Gain hands-on experience in writing and executing code to solve problems, perform calculations, and manipulate data, with a focus on clarity and correctness.\n"
   ]
  },
  {
   "cell_type": "markdown",
   "metadata": {},
   "source": [
    "### Author\n",
    "\n",
    "**Name**: [Zahi]\n"
   ]
  }
 ],
 "metadata": {
  "kernelspec": {
   "display_name": "Python",
   "language": "python",
   "name": "conda-env-python-py"
  },
  "language_info": {
   "codemirror_mode": {
    "name": "ipython",
    "version": 3
   },
   "file_extension": ".py",
   "mimetype": "text/x-python",
   "name": "python",
   "nbconvert_exporter": "python",
   "pygments_lexer": "ipython3",
   "version": "3.7.12"
  }
 },
 "nbformat": 4,
 "nbformat_minor": 4
}
